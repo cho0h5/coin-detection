{
 "cells": [
  {
   "cell_type": "code",
   "execution_count": 1,
   "metadata": {},
   "outputs": [],
   "source": [
    "from keras.preprocessing.image import ImageDataGenerator\n",
    "from keras.models import Sequential\n",
    "from keras.layers import Conv2D, MaxPooling2D, Flatten, Dense"
   ]
  },
  {
   "cell_type": "code",
   "execution_count": 15,
   "metadata": {},
   "outputs": [
    {
     "name": "stdout",
     "output_type": "stream",
     "text": [
      "Found 414 images belonging to 4 classes.\n"
     ]
    }
   ],
   "source": [
    "data_path = \"data/train\"\n",
    "\n",
    "train_datagen = ImageDataGenerator(\n",
    "        rotation_range=360,\n",
    "        width_shift_range=0.05,\n",
    "        height_shift_range=0.05,\n",
    "        rescale=1./255,\n",
    "        shear_range=0.1,\n",
    "        zoom_range=0.1,\n",
    "        fill_mode=\"nearest\")\n",
    "\n",
    "training_set = train_datagen.flow_from_directory(data_path,\n",
    "                                                target_size = (300, 300),\n",
    "                                                batch_size = 32,\n",
    "                                                class_mode = 'categorical')"
   ]
  },
  {
   "cell_type": "code",
   "execution_count": 28,
   "metadata": {},
   "outputs": [],
   "source": [
    "model = Sequential()\n",
    "\n",
    "model.add(Conv2D(16, (3, 3), input_shape = (300, 300, 3), activation = 'relu'))\n",
    "model.add(MaxPooling2D(pool_size = (2, 2)))\n",
    "\n",
    "model.add(Conv2D(16, (3, 3), activation = 'relu'))\n",
    "model.add(MaxPooling2D(pool_size = (2, 2)))\n",
    "\n",
    "model.add(Conv2D(32, (3, 3), activation = 'relu'))\n",
    "model.add(MaxPooling2D(pool_size = (2, 2)))\n",
    "\n",
    "model.add(Conv2D(64, (3, 3), activation = 'relu'))\n",
    "model.add(MaxPooling2D(pool_size = (2, 2)))\n",
    "\n",
    "model.add(Flatten())\n",
    "model.add(Dense(units = 64, activation = 'relu'))\n",
    "model.add(Dense(units = 4, activation = 'softmax'))\n",
    "\n",
    "model.compile(optimizer = 'adam', loss = 'categorical_crossentropy', metrics = ['accuracy'])"
   ]
  },
  {
   "cell_type": "code",
   "execution_count": 29,
   "metadata": {},
   "outputs": [
    {
     "name": "stdout",
     "output_type": "stream",
     "text": [
      "Model: \"sequential_8\"\n",
      "_________________________________________________________________\n",
      "Layer (type)                 Output Shape              Param #   \n",
      "=================================================================\n",
      "conv2d_29 (Conv2D)           (None, 298, 298, 16)      448       \n",
      "_________________________________________________________________\n",
      "max_pooling2d_29 (MaxPooling (None, 149, 149, 16)      0         \n",
      "_________________________________________________________________\n",
      "conv2d_30 (Conv2D)           (None, 147, 147, 16)      2320      \n",
      "_________________________________________________________________\n",
      "max_pooling2d_30 (MaxPooling (None, 73, 73, 16)        0         \n",
      "_________________________________________________________________\n",
      "conv2d_31 (Conv2D)           (None, 71, 71, 32)        4640      \n",
      "_________________________________________________________________\n",
      "max_pooling2d_31 (MaxPooling (None, 35, 35, 32)        0         \n",
      "_________________________________________________________________\n",
      "conv2d_32 (Conv2D)           (None, 33, 33, 64)        18496     \n",
      "_________________________________________________________________\n",
      "max_pooling2d_32 (MaxPooling (None, 16, 16, 64)        0         \n",
      "_________________________________________________________________\n",
      "flatten_8 (Flatten)          (None, 16384)             0         \n",
      "_________________________________________________________________\n",
      "dense_16 (Dense)             (None, 64)                1048640   \n",
      "_________________________________________________________________\n",
      "dense_17 (Dense)             (None, 4)                 260       \n",
      "=================================================================\n",
      "Total params: 1,074,804\n",
      "Trainable params: 1,074,804\n",
      "Non-trainable params: 0\n",
      "_________________________________________________________________\n"
     ]
    }
   ],
   "source": [
    "model.summary()"
   ]
  },
  {
   "cell_type": "code",
   "execution_count": 30,
   "metadata": {},
   "outputs": [
    {
     "name": "stdout",
     "output_type": "stream",
     "text": [
      "Epoch 1/10\n",
      "12/12 [==============================] - 12s 992ms/step - loss: 1.3195 - accuracy: 0.3613\n",
      "Epoch 2/10\n",
      "12/12 [==============================] - 13s 1s/step - loss: 1.0799 - accuracy: 0.4948\n",
      "Epoch 3/10\n",
      "12/12 [==============================] - 15s 1s/step - loss: 0.8377 - accuracy: 0.5916\n",
      "Epoch 4/10\n",
      "12/12 [==============================] - 16s 1s/step - loss: 0.8575 - accuracy: 0.5733\n",
      "Epoch 5/10\n",
      "12/12 [==============================] - 17s 1s/step - loss: 0.8069 - accuracy: 0.5524\n",
      "Epoch 6/10\n",
      "12/12 [==============================] - 17s 1s/step - loss: 0.7366 - accuracy: 0.6042\n",
      "Epoch 7/10\n",
      "12/12 [==============================] - 17s 1s/step - loss: 0.7542 - accuracy: 0.6204\n",
      "Epoch 8/10\n",
      "12/12 [==============================] - 18s 1s/step - loss: 0.8093 - accuracy: 0.5938\n",
      "Epoch 9/10\n",
      "12/12 [==============================] - 18s 1s/step - loss: 0.7528 - accuracy: 0.5785\n",
      "Epoch 10/10\n",
      "12/12 [==============================] - 20s 2s/step - loss: 0.6828 - accuracy: 0.6283\n"
     ]
    },
    {
     "data": {
      "text/plain": [
       "<tensorflow.python.keras.callbacks.History at 0x7fd26ed47670>"
      ]
     },
     "execution_count": 30,
     "metadata": {},
     "output_type": "execute_result"
    }
   ],
   "source": [
    "model.fit_generator(training_set,\n",
    "                    steps_per_epoch=414//32,\n",
    "                    epochs = 10)"
   ]
  },
  {
   "cell_type": "code",
   "execution_count": null,
   "metadata": {},
   "outputs": [],
   "source": []
  }
 ],
 "metadata": {
  "kernelspec": {
   "display_name": "Python 3",
   "language": "python",
   "name": "python3"
  },
  "language_info": {
   "codemirror_mode": {
    "name": "ipython",
    "version": 3
   },
   "file_extension": ".py",
   "mimetype": "text/x-python",
   "name": "python",
   "nbconvert_exporter": "python",
   "pygments_lexer": "ipython3",
   "version": "3.8.3"
  }
 },
 "nbformat": 4,
 "nbformat_minor": 4
}
