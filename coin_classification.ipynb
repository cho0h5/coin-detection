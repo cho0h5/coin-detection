{
 "cells": [
  {
   "cell_type": "code",
   "execution_count": 1,
   "metadata": {},
   "outputs": [],
   "source": [
    "from keras.preprocessing.image import ImageDataGenerator\n",
    "from keras.models import Sequential\n",
    "from keras.layers import Conv2D, MaxPooling2D, Flatten, Dense, Dropout\n",
    "import numpy as np"
   ]
  },
  {
   "cell_type": "code",
   "execution_count": 2,
   "metadata": {},
   "outputs": [
    {
     "name": "stdout",
     "output_type": "stream",
     "text": [
      "Found 331 images belonging to 4 classes.\n",
      "Found 83 images belonging to 4 classes.\n"
     ]
    }
   ],
   "source": [
    "train_datagen = ImageDataGenerator(\n",
    "        rotation_range=360,\n",
    "        width_shift_range=0.0,\n",
    "        height_shift_range=0.0,\n",
    "        rescale=1./255,\n",
    "        shear_range=0.0,\n",
    "        zoom_range=0.0,\n",
    "        fill_mode=\"nearest\")\n",
    "\n",
    "train_generator = train_datagen.flow_from_directory(\"data/train\",\n",
    "                                                target_size = (300, 300),\n",
    "                                                batch_size = 16,\n",
    "                                                class_mode = 'categorical')\n",
    "\n",
    "test_datagen = ImageDataGenerator(rescale=1./255)\n",
    "\n",
    "test_generator = test_datagen.flow_from_directory(\"data/test\",\n",
    "                                                 target_size=(300, 300),\n",
    "                                                 batch_size=16,\n",
    "                                                 class_mode='categorical')"
   ]
  },
  {
   "cell_type": "code",
   "execution_count": 3,
   "metadata": {},
   "outputs": [],
   "source": [
    "model = Sequential()\n",
    "\n",
    "model.add(Conv2D(16, (3, 3), input_shape = (300, 300, 3), activation = 'relu', padding = 'same'))\n",
    "model.add(MaxPooling2D(pool_size = (2, 2)))\n",
    "\n",
    "model.add(Conv2D(32, (3, 3), activation = 'relu', padding = 'same'))\n",
    "model.add(MaxPooling2D(pool_size = (2, 2)))\n",
    "\n",
    "model.add(Conv2D(32, (3, 3), activation = 'relu', padding = 'same'))\n",
    "model.add(MaxPooling2D(pool_size = (2, 2)))\n",
    "\n",
    "model.add(Conv2D(64, (3, 3), activation = 'relu', padding = 'same'))\n",
    "model.add(MaxPooling2D(pool_size = (2, 2)))\n",
    "\n",
    "model.add(Flatten())\n",
    "model.add(Dense(units = 64, activation = 'relu'))\n",
    "model.add(Dropout(rate=0.3))\n",
    "model.add(Dense(units = 4, activation = 'softmax'))\n",
    "\n",
    "model.compile(optimizer = 'adam', loss = 'categorical_crossentropy', metrics = ['accuracy'])"
   ]
  },
  {
   "cell_type": "code",
   "execution_count": 4,
   "metadata": {},
   "outputs": [
    {
     "name": "stdout",
     "output_type": "stream",
     "text": [
      "Model: \"sequential\"\n",
      "_________________________________________________________________\n",
      "Layer (type)                 Output Shape              Param #   \n",
      "=================================================================\n",
      "conv2d (Conv2D)              (None, 300, 300, 16)      448       \n",
      "_________________________________________________________________\n",
      "max_pooling2d (MaxPooling2D) (None, 150, 150, 16)      0         \n",
      "_________________________________________________________________\n",
      "conv2d_1 (Conv2D)            (None, 150, 150, 32)      4640      \n",
      "_________________________________________________________________\n",
      "max_pooling2d_1 (MaxPooling2 (None, 75, 75, 32)        0         \n",
      "_________________________________________________________________\n",
      "conv2d_2 (Conv2D)            (None, 75, 75, 32)        9248      \n",
      "_________________________________________________________________\n",
      "max_pooling2d_2 (MaxPooling2 (None, 37, 37, 32)        0         \n",
      "_________________________________________________________________\n",
      "conv2d_3 (Conv2D)            (None, 37, 37, 64)        18496     \n",
      "_________________________________________________________________\n",
      "max_pooling2d_3 (MaxPooling2 (None, 18, 18, 64)        0         \n",
      "_________________________________________________________________\n",
      "flatten (Flatten)            (None, 20736)             0         \n",
      "_________________________________________________________________\n",
      "dense (Dense)                (None, 64)                1327168   \n",
      "_________________________________________________________________\n",
      "dropout (Dropout)            (None, 64)                0         \n",
      "_________________________________________________________________\n",
      "dense_1 (Dense)              (None, 4)                 260       \n",
      "=================================================================\n",
      "Total params: 1,360,260\n",
      "Trainable params: 1,360,260\n",
      "Non-trainable params: 0\n",
      "_________________________________________________________________\n"
     ]
    }
   ],
   "source": [
    "model.summary()"
   ]
  },
  {
   "cell_type": "code",
   "execution_count": 5,
   "metadata": {
    "scrolled": true
   },
   "outputs": [
    {
     "name": "stdout",
     "output_type": "stream",
     "text": [
      "Epoch 1/5\n",
      "20/20 [==============================] - 15s 740ms/step - loss: 1.3126 - accuracy: 0.4000 - val_loss: 1.1600 - val_accuracy: 0.4750\n",
      "Epoch 2/5\n",
      "20/20 [==============================] - 18s 924ms/step - loss: 1.0306 - accuracy: 0.5683 - val_loss: 0.8501 - val_accuracy: 0.5250\n",
      "Epoch 3/5\n",
      "20/20 [==============================] - 22s 1s/step - loss: 0.8976 - accuracy: 0.5492 - val_loss: 0.7697 - val_accuracy: 0.6500\n",
      "Epoch 4/5\n",
      "20/20 [==============================] - 25s 1s/step - loss: 0.9508 - accuracy: 0.5397 - val_loss: 0.8223 - val_accuracy: 0.5750\n",
      "Epoch 5/5\n",
      "20/20 [==============================] - 21s 1s/step - loss: 0.8484 - accuracy: 0.5524 - val_loss: 0.7810 - val_accuracy: 0.6000\n"
     ]
    },
    {
     "data": {
      "text/plain": [
       "<tensorflow.python.keras.callbacks.History at 0x7fb055da3eb0>"
      ]
     },
     "execution_count": 5,
     "metadata": {},
     "output_type": "execute_result"
    }
   ],
   "source": [
    "model.fit(train_generator,\n",
    "                    steps_per_epoch=331//16,\n",
    "                    validation_data=test_generator,\n",
    "                    validation_steps=83//16,\n",
    "                    epochs = 5)"
   ]
  },
  {
   "cell_type": "code",
   "execution_count": 6,
   "metadata": {},
   "outputs": [
    {
     "name": "stdout",
     "output_type": "stream",
     "text": [
      "5/5 [==============================] - 1s 196ms/step - loss: 0.7703 - accuracy: 0.5875\n",
      "accuracy: 58.75%\n"
     ]
    }
   ],
   "source": [
    "scores = model.evaluate(test_generator, steps=5)\n",
    "print(\"%s: %.2f%%\" %(model.metrics_names[1], scores[1]*100))"
   ]
  },
  {
   "cell_type": "code",
   "execution_count": 9,
   "metadata": {},
   "outputs": [],
   "source": [
    "model.save('model/my_model.h5')"
   ]
  },
  {
   "cell_type": "code",
   "execution_count": 10,
   "metadata": {},
   "outputs": [
    {
     "name": "stdout",
     "output_type": "stream",
     "text": [
      "{'100won': 0, '10won': 1, '500won': 2, '50won': 3}\n",
      "[[0.002 0.992 0.002 0.005]\n",
      " [0.361 0.059 0.429 0.151]\n",
      " [0.000 0.997 0.000 0.002]\n",
      " [0.000 1.000 0.000 0.000]\n",
      " [0.369 0.041 0.437 0.153]\n",
      " [0.387 0.029 0.420 0.163]\n",
      " [0.412 0.015 0.442 0.131]\n",
      " [0.000 0.998 0.000 0.001]\n",
      " [0.383 0.027 0.452 0.138]\n",
      " [0.371 0.043 0.423 0.163]\n",
      " [0.000 0.999 0.000 0.000]\n",
      " [0.385 0.032 0.431 0.152]\n",
      " [0.150 0.443 0.174 0.233]\n",
      " [0.279 0.147 0.334 0.240]\n",
      " [0.401 0.020 0.443 0.137]\n",
      " [0.350 0.065 0.393 0.192]\n",
      " [0.000 0.999 0.000 0.001]\n",
      " [0.404 0.018 0.442 0.136]\n",
      " [0.343 0.070 0.401 0.186]\n",
      " [0.290 0.121 0.361 0.228]\n",
      " [0.187 0.387 0.209 0.217]\n",
      " [0.399 0.021 0.446 0.135]\n",
      " [0.386 0.030 0.435 0.149]\n",
      " [0.359 0.051 0.409 0.181]\n",
      " [0.385 0.031 0.437 0.147]\n",
      " [0.000 0.998 0.000 0.001]\n",
      " [0.363 0.046 0.422 0.169]\n",
      " [0.379 0.033 0.452 0.136]\n",
      " [0.000 1.000 0.000 0.000]\n",
      " [0.359 0.060 0.424 0.158]\n",
      " [0.189 0.330 0.222 0.260]\n",
      " [0.001 0.997 0.000 0.002]\n",
      " [0.390 0.026 0.448 0.136]\n",
      " [0.407 0.019 0.444 0.131]\n",
      " [0.405 0.017 0.444 0.134]\n",
      " [0.404 0.019 0.436 0.140]\n",
      " [0.424 0.011 0.447 0.118]\n",
      " [0.387 0.033 0.415 0.165]\n",
      " [0.336 0.072 0.404 0.187]\n",
      " [0.378 0.038 0.418 0.166]\n",
      " [0.371 0.044 0.425 0.160]\n",
      " [0.336 0.078 0.388 0.198]\n",
      " [0.000 1.000 0.000 0.000]\n",
      " [0.352 0.064 0.419 0.164]\n",
      " [0.354 0.058 0.409 0.179]\n",
      " [0.424 0.010 0.450 0.116]\n",
      " [0.000 0.999 0.000 0.000]\n",
      " [0.376 0.039 0.444 0.140]\n",
      " [0.385 0.035 0.436 0.144]\n",
      " [0.393 0.026 0.428 0.153]\n",
      " [0.366 0.046 0.418 0.170]\n",
      " [0.427 0.009 0.452 0.113]\n",
      " [0.390 0.026 0.446 0.138]\n",
      " [0.400 0.021 0.434 0.144]\n",
      " [0.362 0.054 0.438 0.145]\n",
      " [0.371 0.041 0.420 0.168]\n",
      " [0.380 0.029 0.444 0.147]\n",
      " [0.000 0.999 0.000 0.001]\n",
      " [0.319 0.080 0.400 0.202]\n",
      " [0.005 0.976 0.005 0.014]\n",
      " [0.376 0.033 0.440 0.151]\n",
      " [0.326 0.088 0.393 0.193]\n",
      " [0.000 1.000 0.000 0.000]\n",
      " [0.348 0.070 0.399 0.184]\n",
      " [0.389 0.027 0.450 0.134]\n",
      " [0.000 0.997 0.000 0.002]\n",
      " [0.409 0.015 0.447 0.130]\n",
      " [0.000 0.998 0.000 0.002]\n",
      " [0.444 0.005 0.454 0.096]\n",
      " [0.426 0.009 0.454 0.112]\n",
      " [0.379 0.037 0.418 0.166]\n",
      " [0.402 0.020 0.439 0.139]\n",
      " [0.380 0.035 0.424 0.161]\n",
      " [0.439 0.006 0.453 0.102]\n",
      " [0.348 0.066 0.407 0.179]\n",
      " [0.385 0.029 0.444 0.142]\n",
      " [0.432 0.008 0.448 0.112]\n",
      " [0.000 0.999 0.000 0.000]\n",
      " [0.374 0.039 0.443 0.144]\n",
      " [0.362 0.051 0.410 0.177]]\n"
     ]
    }
   ],
   "source": [
    "output = model.predict(test_generator, steps=5)\n",
    "np.set_printoptions(formatter={'float': lambda x: \"{0:0.3f}\".format(x)})\n",
    "print(test_generator.class_indices)\n",
    "print(output)"
   ]
  },
  {
   "cell_type": "code",
   "execution_count": null,
   "metadata": {},
   "outputs": [],
   "source": []
  }
 ],
 "metadata": {
  "kernelspec": {
   "display_name": "Python 3",
   "language": "python",
   "name": "python3"
  },
  "language_info": {
   "codemirror_mode": {
    "name": "ipython",
    "version": 3
   },
   "file_extension": ".py",
   "mimetype": "text/x-python",
   "name": "python",
   "nbconvert_exporter": "python",
   "pygments_lexer": "ipython3",
   "version": "3.8.3"
  }
 },
 "nbformat": 4,
 "nbformat_minor": 4
}
